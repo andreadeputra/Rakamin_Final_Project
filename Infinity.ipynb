{
 "cells": [
  {
   "attachments": {},
   "cell_type": "markdown",
   "metadata": {},
   "source": [
    "# Rakamin Final Project - Kelompok 8"
   ]
  },
  {
   "attachments": {},
   "cell_type": "markdown",
   "metadata": {},
   "source": [
    "### Anggota Kelompok Infinity:\n",
    "- Andre Adeputra S\n",
    "- Gilang Muhammad Risky\n",
    "- Jomas Sekar Pawestri\n",
    "- M Nurkholis Fauzi\n",
    "- Muhammad Syarif U\n",
    "- Naomi Florenata Damanik\n",
    "- Sakinah Nurul R\n",
    "- Vanesa"
   ]
  },
  {
   "attachments": {},
   "cell_type": "markdown",
   "metadata": {},
   "source": [
    "## Import Libraries & Data Loading"
   ]
  },
  {
   "cell_type": "code",
   "execution_count": 2,
   "metadata": {},
   "outputs": [],
   "source": [
    "import pandas as pd\n",
    "import numpy as np\n",
    "import matplotlib.pyplot as plt\n",
    "import seaborn as sns\n",
    "\n",
    "pd.options.display.max_columns = None\n",
    "pd.set_option('display.precision', 2)"
   ]
  },
  {
   "cell_type": "code",
   "execution_count": 3,
   "metadata": {},
   "outputs": [],
   "source": [
    "df = pd.read_csv('data/Travel.csv')"
   ]
  },
  {
   "attachments": {},
   "cell_type": "markdown",
   "metadata": {},
   "source": [
    "## Stage 0: Pendahuluan"
   ]
  },
  {
   "attachments": {},
   "cell_type": "markdown",
   "metadata": {},
   "source": [
    "### Problem statement :\n",
    "* Perusahaan Bhramanika Holidays di bidang Travel ingin membangun model bisnis yang layak untuk memperluas basis pelanggan. Salah satu cara yang akan dilakukan adalah dengan menawarkan jenis paket liburan yang baru. Namun, biaya pemasaran yang dikeluarkan cukup tinggi karena pelanggan dihubungi secara acak. Sedangkan berdasarkan data tahun lalu, conversion rate pelanggan yang membeli produk dari perusahaan hanya 18%. Oleh karena itu, perusahaan ini ingin menggunakan data yang tersedia untuk menyasar pelanggan yang potensial untuk menurunkan biaya pemasaran (marketing cost)\n",
    "\n",
    "### Role :\n",
    "* Kami dari Infinity Solutions merupakan agensi yang bergerak di bidang data untuk memberi solusi bisnis dari perusahaan klien. Peran kami di sini adalah untuk memberi rekomendasi kepada tim marketing dari klien melalui penggalian data-data marketing yang telah mereka lakukan sebelumnya.\n",
    "\n",
    "### Goal : \n",
    "* Efisiensi target marketing\n",
    "\n",
    "### Objective :\n",
    "* Analisis data customer yang memungkinkan membeli paket perjalanan yang baru diperkenalkan \n",
    "* Menentukan fitur mana saja yang paling signifikan \n",
    "* Membuat machine learning untuk memprediksi pelanggan potensial\n",
    "* Membuat rekomendasi target konsumen kepada tim marketing untuk diprioritaskan\n",
    "\n",
    "### Business Metrics :\n",
    "* Conversion Rate meningkat hingga 25% \n"
   ]
  },
  {
   "attachments": {},
   "cell_type": "markdown",
   "metadata": {},
   "source": [
    "## Stage 1: EDA, Insight, dan Data Visualization"
   ]
  }
 ],
 "metadata": {
  "kernelspec": {
   "display_name": "Python 3",
   "language": "python",
   "name": "python3"
  },
  "language_info": {
   "codemirror_mode": {
    "name": "ipython",
    "version": 3
   },
   "file_extension": ".py",
   "mimetype": "text/x-python",
   "name": "python",
   "nbconvert_exporter": "python",
   "pygments_lexer": "ipython3",
   "version": "3.9.13"
  },
  "orig_nbformat": 4
 },
 "nbformat": 4,
 "nbformat_minor": 2
}
